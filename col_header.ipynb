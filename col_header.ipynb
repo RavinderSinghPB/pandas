{
 "cells": [
  {
   "cell_type": "code",
   "execution_count": 1,
   "metadata": {},
   "outputs": [],
   "source": [
    "import pandas as pd"
   ]
  },
  {
   "cell_type": "code",
   "execution_count": 2,
   "metadata": {},
   "outputs": [],
   "source": [
    "df = pd.read_csv('demo_36r1h.csv')"
   ]
  },
  {
   "cell_type": "code",
   "execution_count": 5,
   "metadata": {},
   "outputs": [
    {
     "data": {
      "text/plain": [
       "['commonscripcode',\n",
       " 'Client_code',\n",
       " 'L4Client_Code',\n",
       " 'cltname',\n",
       " 'shortname',\n",
       " 'qty',\n",
       " 'avgcost',\n",
       " 'cost',\n",
       " 'mktvalue',\n",
       " 'mktvalue1',\n",
       " 'sortorder',\n",
       " 'includeamt',\n",
       " 'datasource',\n",
       " 'title',\n",
       " 'source',\n",
       " 'xirr',\n",
       " 'benchmarkxirr',\n",
       " 'asondiv',\n",
       " 'currencyname',\n",
       " 'FolioNo',\n",
       " 'InceptionDate',\n",
       " 'mktrate',\n",
       " 'netgain',\n",
       " 'portfolioWtg',\n",
       " 'xirr_asset',\n",
       " 'benchmarkxirr_asset',\n",
       " 'Classification',\n",
       " 'issuer',\n",
       " 'maturitydate']"
      ]
     },
     "execution_count": 5,
     "metadata": {},
     "output_type": "execute_result"
    }
   ],
   "source": [
    "df.columns.values.tolist()"
   ]
  },
  {
   "cell_type": "code",
   "execution_count": 4,
   "metadata": {},
   "outputs": [
    {
     "data": {
      "text/plain": [
       "array(['commonscripcode', 'Client_code', 'L4Client_Code', 'cltname',\n",
       "       'shortname', 'qty', 'avgcost', 'cost', 'mktvalue', 'mktvalue1',\n",
       "       'sortorder', 'includeamt', 'datasource', 'title', 'source', 'xirr',\n",
       "       'benchmarkxirr', 'asondiv', 'currencyname', 'FolioNo',\n",
       "       'InceptionDate', 'mktrate', 'netgain', 'portfolioWtg',\n",
       "       'xirr_asset', 'benchmarkxirr_asset', 'Classification', 'issuer',\n",
       "       'maturitydate'], dtype=object)"
      ]
     },
     "execution_count": 4,
     "metadata": {},
     "output_type": "execute_result"
    }
   ],
   "source": [
    "l = df.columns.values\n",
    "l"
   ]
  },
  {
   "cell_type": "code",
   "execution_count": 7,
   "metadata": {},
   "outputs": [
    {
     "data": {
      "text/plain": [
       "29"
      ]
     },
     "execution_count": 7,
     "metadata": {},
     "output_type": "execute_result"
    }
   ],
   "source": [
    "df.shape[1]"
   ]
  }
 ],
 "metadata": {
  "kernelspec": {
   "display_name": "Python 3.8.10 ('allenv')",
   "language": "python",
   "name": "python3"
  },
  "language_info": {
   "codemirror_mode": {
    "name": "ipython",
    "version": 3
   },
   "file_extension": ".py",
   "mimetype": "text/x-python",
   "name": "python",
   "nbconvert_exporter": "python",
   "pygments_lexer": "ipython3",
   "version": "3.8.10"
  },
  "orig_nbformat": 4,
  "vscode": {
   "interpreter": {
    "hash": "326420cfefcc332f5abbfc2c13e8f6c6f264266ac3e61ba5d2bcbacc84e721d2"
   }
  }
 },
 "nbformat": 4,
 "nbformat_minor": 2
}
