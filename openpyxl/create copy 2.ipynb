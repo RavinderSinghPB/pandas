{
 "cells": [
  {
   "cell_type": "code",
   "execution_count": 187,
   "metadata": {},
   "outputs": [],
   "source": [
    "from openpyxl import Workbook\n",
    "from openpyxl.utils import get_column_letter\n",
    "from openpyxl.drawing.image import Image\n",
    "from openpyxl.styles import PatternFill, Border, Side, Alignment, Protection, Font\n",
    "from openpyxl.utils.dataframe import dataframe_to_rows\n",
    "\n",
    "\n",
    "import datetime as dt\n",
    "\n",
    "import pandas as pd"
   ]
  },
  {
   "cell_type": "code",
   "execution_count": 188,
   "metadata": {},
   "outputs": [],
   "source": [
    "wb = Workbook()\n",
    "ws = wb.active"
   ]
  },
  {
   "cell_type": "code",
   "execution_count": 189,
   "metadata": {},
   "outputs": [],
   "source": [
    "df = pd.read_csv('demo_11761r1h.csv')\n",
    "# make header text to upper case\n",
    "df.columns = map(str.upper, df.columns)\n",
    "\n",
    "for r in dataframe_to_rows(df,index=False, header=True):\n",
    "    ws.append(r)"
   ]
  },
  {
   "cell_type": "code",
   "execution_count": 190,
   "metadata": {},
   "outputs": [],
   "source": [
    "ws.insert_cols(1)\n",
    "ws.insert_rows(1,6)"
   ]
  },
  {
   "cell_type": "code",
   "execution_count": 191,
   "metadata": {},
   "outputs": [],
   "source": [
    "#ws.insert_cols(1)\n",
    "ws['B1'] = 'CENTRUM'\n",
    "align = Alignment(horizontal='center', vertical='justify')\n",
    "ws['B1'].alignment = align\n",
    "font = Font(bold=True, size=16, color='0066FF')\n",
    "ws['B1'].font = font\n"
   ]
  },
  {
   "cell_type": "code",
   "execution_count": 192,
   "metadata": {},
   "outputs": [],
   "source": [
    "ws['B2'] = 'WEALTH'\n",
    "align = Alignment(horizontal='center', vertical='justify')\n",
    "ws['B2'].alignment = align\n",
    "font = Font(bold=True, size=12, color='0066FF')\n",
    "ws['B2'].font = font"
   ]
  },
  {
   "cell_type": "code",
   "execution_count": 193,
   "metadata": {},
   "outputs": [],
   "source": [
    "ws['B4'] = 'Capital Gains Report'\n",
    "align = Alignment(horizontal='center', vertical='justify')\n",
    "ws['B4'].alignment = align\n",
    "font = Font(bold=True, size=12)\n",
    "ws['B4'].font = font"
   ]
  },
  {
   "cell_type": "code",
   "execution_count": 194,
   "metadata": {},
   "outputs": [],
   "source": [
    "# make ws['A1'] bottom border white\n",
    "# ws['A1Z1'].border = Border(bottom=Side(border_style='thin', color='FFFFFF'))\n",
    "ws.row_dimensions[1].border = Border(bottom=Side(border_style='thin', color='FFFFFF'))\n",
    "\n",
    "# set height of row 1 to 20\n",
    "ws.row_dimensions[1].height = 20\n",
    "ws.row_dimensions[2].height = 20\n",
    "ws.column_dimensions['B'].width = 22\n",
    "\n",
    "\n"
   ]
  },
  {
   "cell_type": "code",
   "execution_count": 195,
   "metadata": {},
   "outputs": [],
   "source": [
    "ws['D1'] = 'Report Generated on: ' + dt.date.today().strftime('%d %B %Y')\n",
    "font = Font(bold=True)\n",
    "ws['D1'].font = font"
   ]
  },
  {
   "cell_type": "code",
   "execution_count": 196,
   "metadata": {},
   "outputs": [],
   "source": [
    "# make all cell of row 7 text bold and blue\n",
    "no_of_col = ws.max_column\n",
    "for col in range(1, no_of_col + 1):\n",
    "    ws.cell(row=7, column=col).font = Font(bold=True, color='0066FF')\n"
   ]
  },
  {
   "cell_type": "code",
   "execution_count": 197,
   "metadata": {},
   "outputs": [],
   "source": [
    "dims = {}\n",
    "for row in ws.rows:\n",
    "    for cell in row:\n",
    "        if cell.value:\n",
    "            dims[cell.column_letter] = max((dims.get(cell.column_letter, 0), len(str(cell.value))+2))   \n",
    "for col, value in dims.items():\n",
    "    ws.column_dimensions[col].width = value"
   ]
  },
  {
   "cell_type": "code",
   "execution_count": null,
   "metadata": {},
   "outputs": [],
   "source": []
  },
  {
   "cell_type": "code",
   "execution_count": 198,
   "metadata": {},
   "outputs": [],
   "source": [
    "wb.save('cw.xlsx')\n",
    "wb.close()"
   ]
  }
 ],
 "metadata": {
  "kernelspec": {
   "display_name": "Python 3.8.10 ('allenv')",
   "language": "python",
   "name": "python3"
  },
  "language_info": {
   "codemirror_mode": {
    "name": "ipython",
    "version": 3
   },
   "file_extension": ".py",
   "mimetype": "text/x-python",
   "name": "python",
   "nbconvert_exporter": "python",
   "pygments_lexer": "ipython3",
   "version": "3.8.10"
  },
  "orig_nbformat": 4,
  "vscode": {
   "interpreter": {
    "hash": "326420cfefcc332f5abbfc2c13e8f6c6f264266ac3e61ba5d2bcbacc84e721d2"
   }
  }
 },
 "nbformat": 4,
 "nbformat_minor": 2
}
