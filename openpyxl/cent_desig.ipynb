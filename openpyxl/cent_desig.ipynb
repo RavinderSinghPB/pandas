{
 "cells": [
  {
   "cell_type": "code",
   "execution_count": 345,
   "metadata": {},
   "outputs": [],
   "source": [
    "from openpyxl import Workbook\n",
    "from openpyxl.utils import get_column_letter\n",
    "from openpyxl.drawing.image import Image\n",
    "from openpyxl.styles import PatternFill, Border, Side, Alignment, Protection, Font\n",
    "from openpyxl.utils.dataframe import dataframe_to_rows\n",
    "\n",
    "\n",
    "import datetime as dt\n",
    "\n",
    "import pandas as pd"
   ]
  },
  {
   "cell_type": "code",
   "execution_count": 346,
   "metadata": {},
   "outputs": [],
   "source": [
    "wb = Workbook()\n",
    "ws = wb.active"
   ]
  },
  {
   "cell_type": "code",
   "execution_count": 347,
   "metadata": {},
   "outputs": [],
   "source": [
    "#ws.insert_cols(1)\n",
    "ws['B1'] = 'CENTRUM'\n",
    "align = Alignment(horizontal='center', vertical='justify')\n",
    "ws['B1'].alignment = align\n",
    "font = Font(bold=True, size=16, color='0066FF')\n",
    "ws['B1'].font = font\n"
   ]
  },
  {
   "cell_type": "code",
   "execution_count": 348,
   "metadata": {},
   "outputs": [],
   "source": [
    "ws['B2'] = 'WEALTH'\n",
    "align = Alignment(horizontal='center', vertical='justify')\n",
    "ws['B2'].alignment = align\n",
    "font = Font(bold=True, size=12, color='0066FF')\n",
    "ws['B2'].font = font"
   ]
  },
  {
   "cell_type": "code",
   "execution_count": 349,
   "metadata": {},
   "outputs": [],
   "source": [
    "ws['B4'] = 'Capital Gains Report'\n",
    "align = Alignment(horizontal='center', vertical='justify')\n",
    "ws['B4'].alignment = align\n",
    "font = Font(bold=True, size=12)\n",
    "ws['B4'].font = font"
   ]
  },
  {
   "cell_type": "code",
   "execution_count": 350,
   "metadata": {},
   "outputs": [],
   "source": [
    "# make ws['A1'] bottom border white\n",
    "# ws['A1Z1'].border = Border(bottom=Side(border_style='thin', color='FFFFFF'))\n",
    "ws.row_dimensions[1].border = Border(bottom=Side(border_style='thin', color='FFFFFF'))\n",
    "\n",
    "# set height of row 1 to 20\n",
    "ws.row_dimensions[1].height = 20\n",
    "ws.row_dimensions[2].height = 20\n",
    "ws.column_dimensions['B'].width = 22\n",
    "\n",
    "\n"
   ]
  },
  {
   "cell_type": "code",
   "execution_count": 351,
   "metadata": {},
   "outputs": [],
   "source": [
    "ws['F1'] = 'Report Generated on: ' + dt.date.today().strftime('%d %B %Y')\n",
    "font = Font(bold=True)\n",
    "ws['F1'].font = font"
   ]
  },
  {
   "cell_type": "code",
   "execution_count": 352,
   "metadata": {},
   "outputs": [],
   "source": [
    "df = pd.read_csv('demo_36r1h.csv')\n",
    "df\n",
    "\n",
    "for r in dataframe_to_rows(df,index=False, header=True):\n",
    "    ws.append(r)"
   ]
  },
  {
   "cell_type": "code",
   "execution_count": 353,
   "metadata": {},
   "outputs": [],
   "source": [
    "ws.insert_rows(5,2)\n",
    "ws.insert_cols(1)"
   ]
  },
  {
   "cell_type": "code",
   "execution_count": 354,
   "metadata": {},
   "outputs": [],
   "source": [
    "wb.save('cw.xlsx')\n",
    "wb.close()"
   ]
  }
 ],
 "metadata": {
  "kernelspec": {
   "display_name": "Python 3.8.10 ('allenv')",
   "language": "python",
   "name": "python3"
  },
  "language_info": {
   "codemirror_mode": {
    "name": "ipython",
    "version": 3
   },
   "file_extension": ".py",
   "mimetype": "text/x-python",
   "name": "python",
   "nbconvert_exporter": "python",
   "pygments_lexer": "ipython3",
   "version": "3.8.10"
  },
  "orig_nbformat": 4,
  "vscode": {
   "interpreter": {
    "hash": "326420cfefcc332f5abbfc2c13e8f6c6f264266ac3e61ba5d2bcbacc84e721d2"
   }
  }
 },
 "nbformat": 4,
 "nbformat_minor": 2
}
